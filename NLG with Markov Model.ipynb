{
 "cells": [
  {
   "cell_type": "code",
   "execution_count": 1,
   "id": "f6d8a2fb",
   "metadata": {},
   "outputs": [
    {
     "name": "stdout",
     "output_type": "stream",
     "text": [
      "File ‘robert_frost.txt’ already there; not retrieving.\r\n",
      "\r\n"
     ]
    }
   ],
   "source": [
    "!wget -nc https://raw.githubusercontent.com/lazyprogrammer/machine_learning_examples/master/hmm_class/robert_frost.txt"
   ]
  },
  {
   "cell_type": "code",
   "execution_count": 2,
   "id": "f106a4f8",
   "metadata": {},
   "outputs": [],
   "source": [
    "import numpy as np\n",
    "import string\n",
    "np.random.seed(1234)"
   ]
  },
  {
   "cell_type": "code",
   "execution_count": 3,
   "id": "27eb3d19",
   "metadata": {},
   "outputs": [],
   "source": [
    "initial = {}\n",
    "first_order = {}\n",
    "second_order = {}\n",
    "#remove punc code i don't know how it works i got from stackoverflow :D\n",
    "def remove_punctuation(s):\n",
    "    return s.translate(str.maketrans('','',string.punctuation))"
   ]
  },
  {
   "cell_type": "code",
   "execution_count": 4,
   "id": "d1c7a3e3",
   "metadata": {},
   "outputs": [],
   "source": [
    "def add2dict(d,k,v):\n",
    "    if k not in d:\n",
    "        d[k] = []\n",
    "    d[k].append(v)"
   ]
  },
  {
   "cell_type": "code",
   "execution_count": 9,
   "id": "838219f2",
   "metadata": {},
   "outputs": [],
   "source": [
    "for line in open('robert_frost.txt'):\n",
    "    tokens = remove_punctuation(line.rstrip().lower()).split()\n",
    "    \n",
    "    T = len(tokens)\n",
    "    for i in range(T):\n",
    "        t = tokens[i]\n",
    "        if i == 0:\n",
    "            initial[t] = initial.get(t,0.)+1\n",
    "        else:\n",
    "            t_1 = tokens[i-1]\n",
    "            if i == T-1:\n",
    "                add2dict(second_order,(t_1,t),\"END\")\n",
    "            if i == 1:\n",
    "                add2dict(first_order,t_1,t)\n",
    "            else:\n",
    "                t_2 = tokens[i-2]\n",
    "                add2dict(second_order, (t_2,t_1),t)"
   ]
  },
  {
   "cell_type": "code",
   "execution_count": 10,
   "id": "b2884d25",
   "metadata": {},
   "outputs": [],
   "source": [
    "#normalize distributions in init\n",
    "initial_total = sum(initial.values())\n",
    "for t, c in initial.items():\n",
    "    initial[t] = c / initial_total"
   ]
  },
  {
   "cell_type": "code",
   "execution_count": 11,
   "id": "c023fc11",
   "metadata": {},
   "outputs": [],
   "source": [
    "#converting [cat,cat,cat,dog,dog,dog,dog,mouse,...] to {cat = 0.5 , dog: 0.4,...}\n",
    "#or we could just use np.random for selecting but what doesn't kill you makes you stronger :D\n",
    "def list2pdict(ts):\n",
    "    d = {}\n",
    "    n = len(ts)\n",
    "    for t in ts:\n",
    "        d[t] = d.get(t, 0.) +1\n",
    "    for t,c in d.items():\n",
    "        d[t] = c/n\n",
    "    return d"
   ]
  },
  {
   "cell_type": "code",
   "execution_count": 12,
   "id": "4a0d6e46",
   "metadata": {},
   "outputs": [],
   "source": [
    "for t_1, ts in first_order.items():\n",
    "    first_order[t_1] = list2pdict(ts)\n",
    "for k, ts in second_order.items():\n",
    "    second_order[k] = list2pdict(ts)"
   ]
  },
  {
   "cell_type": "code",
   "execution_count": 18,
   "id": "e5f6a37c",
   "metadata": {},
   "outputs": [],
   "source": [
    "#hard work over? nah...\n",
    "#good luck understanding what this func does (feel free to ask me)\n",
    "#the thing is if you don't undrestand this you can always ignore this and use np.rand\n",
    "\n",
    "def sample_word(d):\n",
    "    p0 = np.random.random()\n",
    "    cumulative = 0\n",
    "    for t, p in d.items():\n",
    "        cumulative += p\n",
    "        if p0< cumulative:\n",
    "            return t\n",
    "    assert(False)     "
   ]
  },
  {
   "cell_type": "code",
   "execution_count": 23,
   "id": "5b275b92",
   "metadata": {},
   "outputs": [],
   "source": [
    "def generate():\n",
    "    for i in range(4):\n",
    "        sentence = []\n",
    "        w0 = sample_word(initial)\n",
    "        sentence.append(w0)\n",
    "    \n",
    "        w1 = sample_word(first_order[w0])\n",
    "        sentence.append(w1)\n",
    "    \n",
    "        while True:\n",
    "            w2 = sample_word(second_order[(w0,w1)])\n",
    "            if w2 == \"END\":\n",
    "                break\n",
    "            sentence.append(w2)\n",
    "            w0 = w1\n",
    "            w1 = w2\n",
    "        print(' '.join(sentence))\n",
    "            "
   ]
  },
  {
   "cell_type": "code",
   "execution_count": 24,
   "id": "3a8f7ffa",
   "metadata": {},
   "outputs": [
    {
     "name": "stdout",
     "output_type": "stream",
     "text": [
      "might just as empty\n",
      "but it isnt as if he were here i said where arent you afraid of him\n",
      "when shoeing home across the white\n",
      "one level higher than the earth below\n"
     ]
    }
   ],
   "source": [
    "generate()"
   ]
  },
  {
   "cell_type": "code",
   "execution_count": null,
   "id": "ba100241",
   "metadata": {},
   "outputs": [],
   "source": [
    "#\"change random state and create an indefinite poems!\" -Kiavash Zareei"
   ]
  }
 ],
 "metadata": {
  "kernelspec": {
   "display_name": "Python 3",
   "language": "python",
   "name": "python3"
  },
  "language_info": {
   "codemirror_mode": {
    "name": "ipython",
    "version": 3
   },
   "file_extension": ".py",
   "mimetype": "text/x-python",
   "name": "python",
   "nbconvert_exporter": "python",
   "pygments_lexer": "ipython3",
   "version": "3.8.8"
  }
 },
 "nbformat": 4,
 "nbformat_minor": 5
}
